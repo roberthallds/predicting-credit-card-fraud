{
 "cells": [
  {
   "cell_type": "markdown",
   "metadata": {},
   "source": [
    "# Predicting Credit Card Fraud using Scikit-Learn and Synthetic Training & Test Data\n",
    "\n",
    "Completed for my Codecademy Data Scientist (Machine Learning Specialist) certification course.\n",
    "\n",
    "Robert Hall\n",
    "\n",
    "10/10/2024.\n"
   ]
  },
  {
   "cell_type": "markdown",
   "metadata": {},
   "source": []
  }
 ],
 "metadata": {
  "kernelspec": {
   "display_name": "base",
   "language": "python",
   "name": "python3"
  },
  "language_info": {
   "name": "python",
   "version": "3.12.4"
  }
 },
 "nbformat": 4,
 "nbformat_minor": 2
}
